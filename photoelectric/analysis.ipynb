{
 "cells": [
  {
   "cell_type": "code",
   "execution_count": 1,
   "metadata": {},
   "outputs": [],
   "source": [
    "import sys\n",
    "import subprocess\n",
    "from pathlib import Path\n",
    "\n",
    "repo_root = subprocess.run(\n",
    "    [\"git\", \"rev-parse\", \"--show-toplevel\"], capture_output=True, text=True\n",
    ").stdout.strip()\n",
    "\n",
    "sys.path.append(repo_root)"
   ]
  },
  {
   "cell_type": "code",
   "execution_count": 2,
   "metadata": {},
   "outputs": [],
   "source": [
    "import numpy as np\n",
    "\n",
    "from matplotlib import pyplot as plt\n",
    "\n",
    "from modules import utils, fitting\n",
    "\n",
    "import importlib\n",
    "importlib.reload(utils)\n",
    "importlib.reload(fitting)\n",
    "\n",
    "utils.set_plot_configs()"
   ]
  },
  {
   "cell_type": "code",
   "execution_count": 3,
   "metadata": {},
   "outputs": [],
   "source": [
    "class PhotoelectricData:\n",
    "    def __init__(self,data_file='23-02-20_364nm.txt'):\n",
    "        self._read_data(data_file)\n",
    "        self._analyse_all_bins()\n",
    "\n",
    "    def _read_data(self,data_file):\n",
    "        l = []\n",
    "        Is = []\n",
    "\n",
    "        with open(data_file,'r') as f:\n",
    "            for line in f.readlines():\n",
    "                line_data = line.split()\n",
    "                \n",
    "                l.append(float(line_data[0]))\n",
    "                Is.append([\n",
    "                    float(x) for x in line_data[1:]\n",
    "                ])\n",
    "\n",
    "        self.l = np.array(l)\n",
    "        self.Is = np.array(Is)\n",
    "\n",
    "    def _analyse_single_bin(self,I):\n",
    "        bayes_gaussian = fitting.BayesianGaussian(I)\n",
    "\n",
    "        return bayes_gaussian.mu, bayes_gaussian.sigma, bayes_gaussian.chisqr\n",
    "    \n",
    "    def _analyse_all_bins(self):\n",
    "        self.I_mu = np.array([])\n",
    "        self.I_sigma = np.array([])\n",
    "        self.I_reduced_chisqr = np.array([])\n",
    "\n",
    "        for T in self.Ts:\n",
    "            mu, sigma, chisqr = self._analyse_single_bin(T)\n",
    "\n",
    "            self.I_mu = np.append(self.I_mu,mu)\n",
    "            self.I_sigma = np.append(self.I_sigma,sigma)\n",
    "            self.I_reduced_chisqr = np.append(self.I_reduced_chisqr,chisqr/T.shape[0])"
   ]
  },
  {
   "cell_type": "code",
   "execution_count": 4,
   "metadata": {},
   "outputs": [
    {
     "ename": "ValueError",
     "evalue": "setting an array element with a sequence. The requested array has an inhomogeneous shape after 1 dimensions. The detected shape was (37,) + inhomogeneous part.",
     "output_type": "error",
     "traceback": [
      "\u001b[0;31m---------------------------------------------------------------------------\u001b[0m",
      "\u001b[0;31mValueError\u001b[0m                                Traceback (most recent call last)",
      "Cell \u001b[0;32mIn[4], line 1\u001b[0m\n\u001b[0;32m----> 1\u001b[0m photoelectric_data \u001b[38;5;241m=\u001b[39m \u001b[43mPhotoelectricData\u001b[49m\u001b[43m(\u001b[49m\u001b[43m)\u001b[49m\n",
      "Cell \u001b[0;32mIn[3], line 3\u001b[0m, in \u001b[0;36mPhotoelectricData.__init__\u001b[0;34m(self, data_file)\u001b[0m\n\u001b[1;32m      2\u001b[0m \u001b[38;5;28;01mdef\u001b[39;00m \u001b[38;5;21m__init__\u001b[39m(\u001b[38;5;28mself\u001b[39m,data_file\u001b[38;5;241m=\u001b[39m\u001b[38;5;124m'\u001b[39m\u001b[38;5;124m23-02-20_364nm.txt\u001b[39m\u001b[38;5;124m'\u001b[39m):\n\u001b[0;32m----> 3\u001b[0m     \u001b[38;5;28;43mself\u001b[39;49m\u001b[38;5;241;43m.\u001b[39;49m\u001b[43m_read_data\u001b[49m\u001b[43m(\u001b[49m\u001b[43mdata_file\u001b[49m\u001b[43m)\u001b[49m\n\u001b[1;32m      4\u001b[0m     \u001b[38;5;28mself\u001b[39m\u001b[38;5;241m.\u001b[39m_analyse_all_bins()\n",
      "Cell \u001b[0;32mIn[3], line 20\u001b[0m, in \u001b[0;36mPhotoelectricData._read_data\u001b[0;34m(self, data_file)\u001b[0m\n\u001b[1;32m     15\u001b[0m         Is\u001b[38;5;241m.\u001b[39mappend([\n\u001b[1;32m     16\u001b[0m             \u001b[38;5;28mfloat\u001b[39m(x) \u001b[38;5;28;01mfor\u001b[39;00m x \u001b[38;5;129;01min\u001b[39;00m line_data[\u001b[38;5;241m1\u001b[39m:]\n\u001b[1;32m     17\u001b[0m         ])\n\u001b[1;32m     19\u001b[0m \u001b[38;5;28mself\u001b[39m\u001b[38;5;241m.\u001b[39ml \u001b[38;5;241m=\u001b[39m np\u001b[38;5;241m.\u001b[39marray(l)\n\u001b[0;32m---> 20\u001b[0m \u001b[38;5;28mself\u001b[39m\u001b[38;5;241m.\u001b[39mIs \u001b[38;5;241m=\u001b[39m \u001b[43mnp\u001b[49m\u001b[38;5;241;43m.\u001b[39;49m\u001b[43marray\u001b[49m\u001b[43m(\u001b[49m\u001b[43mIs\u001b[49m\u001b[43m)\u001b[49m\n",
      "\u001b[0;31mValueError\u001b[0m: setting an array element with a sequence. The requested array has an inhomogeneous shape after 1 dimensions. The detected shape was (37,) + inhomogeneous part."
     ]
    }
   ],
   "source": [
    "photoelectric_data = PhotoelectricData()"
   ]
  }
 ],
 "metadata": {
  "kernelspec": {
   "display_name": "analysis",
   "language": "python",
   "name": "python3"
  },
  "language_info": {
   "codemirror_mode": {
    "name": "ipython",
    "version": 3
   },
   "file_extension": ".py",
   "mimetype": "text/x-python",
   "name": "python",
   "nbconvert_exporter": "python",
   "pygments_lexer": "ipython3",
   "version": "3.10.15"
  }
 },
 "nbformat": 4,
 "nbformat_minor": 2
}
