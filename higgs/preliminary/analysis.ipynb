{
 "cells": [
  {
   "cell_type": "code",
   "execution_count": 97,
   "metadata": {},
   "outputs": [],
   "source": [
    "import os\n",
    "import sys\n",
    "import subprocess\n",
    "from pathlib import Path\n",
    "\n",
    "repo_root = subprocess.run(\n",
    "    [\"git\", \"rev-parse\", \"--show-toplevel\"], capture_output=True, text=True\n",
    ").stdout.strip()\n",
    "\n",
    "sys.path.append(repo_root)"
   ]
  },
  {
   "cell_type": "code",
   "execution_count": 98,
   "metadata": {},
   "outputs": [],
   "source": [
    "import numpy as np\n",
    "\n",
    "from matplotlib import pyplot as plt\n",
    "\n",
    "import warnings\n",
    "warnings.filterwarnings(\"ignore\", category=RuntimeWarning)\n",
    "\n",
    "import utils, params\n",
    "\n",
    "from modules import helpers, fitting\n",
    "\n",
    "import importlib\n",
    "importlib.reload(utils)\n",
    "importlib.reload(params)\n",
    "importlib.reload(helpers)\n",
    "importlib.reload(fitting)\n",
    "\n",
    "helpers.set_plot_configs()"
   ]
  },
  {
   "cell_type": "code",
   "execution_count": 99,
   "metadata": {},
   "outputs": [],
   "source": [
    "MC_dir = '../HiggsTo4L/MC/'\n",
    "data_dir = '../HiggsTo4L/data/'"
   ]
  },
  {
   "cell_type": "code",
   "execution_count": 100,
   "metadata": {},
   "outputs": [
    {
     "name": "stdout",
     "output_type": "stream",
     "text": [
      "Higgs:\n",
      " Conservation cut: 50542 events passed out of 52248 (97%)\n",
      " Leptons cut: 44320 events passed out of 50542 (88%)\n",
      " Z cut: 41818 events passed out of 44320 (94%)\n",
      " Conservation cut: 39353 events passed out of 40530 (97%)\n",
      " Leptons cut: 35855 events passed out of 39353 (91%)\n",
      " Z cut: 33996 events passed out of 35855 (95%)\n",
      "ZZ:\n",
      " Conservation cut: 207439 events passed out of 209504 (99%)\n",
      " Leptons cut: 162016 events passed out of 207439 (78%)\n",
      " Z cut: 123286 events passed out of 162016 (76%)\n",
      " Conservation cut: 152367 events passed out of 155454 (98%)\n",
      " Leptons cut: 110224 events passed out of 152367 (72%)\n",
      " Z cut: 68099 events passed out of 110224 (62%)\n",
      " Conservation cut: 140811 events passed out of 144999 (97%)\n",
      " Leptons cut: 93161 events passed out of 140811 (66%)\n",
      " Z cut: 78064 events passed out of 93161 (84%)\n",
      " Conservation cut: 182153 events passed out of 183843 (99%)\n",
      " Leptons cut: 148678 events passed out of 182153 (82%)\n",
      " Z cut: 116017 events passed out of 148678 (78%)\n",
      " Conservation cut: 121906 events passed out of 124496 (98%)\n",
      " Leptons cut: 96829 events passed out of 121906 (79%)\n",
      " Z cut: 62978 events passed out of 96829 (65%)\n",
      " Conservation cut: 104065 events passed out of 107496 (97%)\n",
      " Leptons cut: 79850 events passed out of 104065 (77%)\n",
      " Z cut: 68381 events passed out of 79850 (86%)\n",
      "Drell-Yan:\n",
      " Conservation cut: 29 events passed out of 59 (49%)\n",
      " Leptons cut: 1 events passed out of 29 (3%)\n",
      " Z cut: 0 events passed out of 1 (0%)\n",
      " Conservation cut: 342 events passed out of 507 (67%)\n",
      " Leptons cut: 32 events passed out of 342 (9%)\n",
      " Z cut: 6 events passed out of 32 (19%)\n",
      " Conservation cut: 14 events passed out of 42 (33%)\n",
      " Leptons cut: 2 events passed out of 14 (14%)\n",
      " Z cut: 1 events passed out of 2 (50%)\n",
      " Conservation cut: 148 events passed out of 228 (65%)\n",
      " Leptons cut: 15 events passed out of 148 (10%)\n",
      " Z cut: 4 events passed out of 15 (27%)\n",
      "tt:\n",
      " Conservation cut: 171 events passed out of 637 (27%)\n",
      " Leptons cut: 60 events passed out of 171 (35%)\n",
      " Z cut: 36 events passed out of 60 (60%)\n",
      " Conservation cut: 5 events passed out of 24 (21%)\n",
      " Leptons cut: 2 events passed out of 5 (40%)\n",
      " Z cut: 0 events passed out of 2 (0%)\n"
     ]
    }
   ],
   "source": [
    "print('Higgs:')\n",
    "mc_higgs = utils.FourLeptonReader([\n",
    "    MC_dir + 'higgs2011.csv',\n",
    "    MC_dir + 'higgs2012.csv'\n",
    "],scalers=params.scales_higgs)\n",
    "\n",
    "print('ZZ:')\n",
    "mc_zz = utils.FourLeptonReader([\n",
    "    MC_dir + 'zzto4mu2011.csv',\n",
    "    MC_dir + 'zzto2mu2e2011.csv',\n",
    "    MC_dir + 'zzto4e2011.csv',\n",
    "\n",
    "    MC_dir + 'zzto4mu2012.csv',\n",
    "    MC_dir + 'zzto2mu2e2012.csv',\n",
    "    MC_dir + 'zzto4e2012.csv',\n",
    "],scalers=params.scales_zz)\n",
    "\n",
    "print('Drell-Yan:')\n",
    "mc_dy = utils.FourLeptonReader([\n",
    "    MC_dir + 'dy1050_2011.csv',\n",
    "    MC_dir + 'dy50_2011.csv',\n",
    "    MC_dir + 'dy1050_2012.csv',\n",
    "    MC_dir + 'dy50_2012.csv'\n",
    "],scalers=params.scales_dy)\n",
    "\n",
    "print('tt:')\n",
    "mc_tt = utils.FourLeptonReader([\n",
    "    MC_dir + 'ttbar2011.csv',\n",
    "    MC_dir + 'ttbar2012.csv'\n",
    "],scalers=params.scales_tt)"
   ]
  },
  {
   "cell_type": "code",
   "execution_count": 101,
   "metadata": {},
   "outputs": [],
   "source": [
    "bins = np.linspace(50,200,101)\n",
    "bin_centers = (bins[1:] + bins[:-1]) / 2\n",
    "bin_width = bins[1] - bins[0]\n",
    "\n",
    "higgs_hist = mc_higgs.get_m4l_histogram(bins)\n",
    "zz_hist = mc_zz.get_m4l_histogram(bins)\n",
    "dy_hist = mc_dy.get_m4l_histogram(bins)\n",
    "tt_hist = mc_tt.get_m4l_histogram(bins)"
   ]
  },
  {
   "cell_type": "code",
   "execution_count": 102,
   "metadata": {},
   "outputs": [
    {
     "data": {
      "image/png": "[encoded data removed]",
      "text/plain": [
       "<Figure size 720x560 with 1 Axes>"
      ]
     },
     "metadata": {},
     "output_type": "display_data"
    }
   ],
   "source": [
    "fig, ax = plt.subplots(figsize=(9,7))\n",
    "\n",
    "stack = ax.bar(bin_centers, higgs_hist, align='center', width=bin_width, label=r'$m_{H}$ = 125 GeV', color='red')\n",
    "stack = ax.bar(bin_centers, tt_hist, align='center', width=bin_width, label=r'$t\\bar{t}$', color='grey')\n",
    "stack = ax.bar(bin_centers, dy_hist, align='center', width=bin_width, label=r'Z/$\\gamma^{*}$ + X', color='green', bottom=tt_hist)\n",
    "stack = ax.bar(bin_centers, zz_hist, align='center', width=bin_width, label=r'ZZ $\\rightarrow$ 4l', color='blue', bottom=tt_hist+dy_hist)\n",
    "\n",
    "ax.legend(loc='upper right', frameon=False, ncol=1, handletextpad=0.5, handlelength=1.0, columnspacing=0.5)\n",
    "\n",
    "plt.tight_layout()\n",
    "plt.show()"
   ]
  }
 ],
 "metadata": {
  "kernelspec": {
   "display_name": "analysis",
   "language": "python",
   "name": "python3"
  },
  "language_info": {
   "codemirror_mode": {
    "name": "ipython",
    "version": 3
   },
   "file_extension": ".py",
   "mimetype": "text/x-python",
   "name": "python",
   "nbconvert_exporter": "python",
   "pygments_lexer": "ipython3",
   "version": "3.10.15"
  }
 },
 "nbformat": 4,
 "nbformat_minor": 2
}
