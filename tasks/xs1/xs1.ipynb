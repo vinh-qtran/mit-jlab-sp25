{
 "cells": [
  {
   "cell_type": "code",
   "execution_count": 13,
   "metadata": {},
   "outputs": [],
   "source": [
    "import sys\n",
    "import subprocess\n",
    "from pathlib import Path\n",
    "\n",
    "repo_root = subprocess.run(\n",
    "    [\"git\", \"rev-parse\", \"--show-toplevel\"], capture_output=True, text=True\n",
    ").stdout.strip()\n",
    "\n",
    "sys.path.append(repo_root)"
   ]
  },
  {
   "cell_type": "code",
   "execution_count": 14,
   "metadata": {},
   "outputs": [],
   "source": [
    "import numpy as np\n",
    "\n",
    "from matplotlib import pyplot as plt\n",
    "\n",
    "from utils import configs, helpers\n",
    "import importlib\n",
    "importlib.reload(configs)\n",
    "importlib.reload(helpers)\n",
    "\n",
    "configs.set_plot_configs()"
   ]
  },
  {
   "cell_type": "code",
   "execution_count": 15,
   "metadata": {},
   "outputs": [
    {
     "name": "stdout",
     "output_type": "stream",
     "text": [
      "Data:\n",
      "  Shape: (2048,)\n",
      "  Min:   0.0\n",
      "  Max:   799819.0\n",
      "  Mean:  10634.17822265625\n",
      "  Std:   45327.256940810956\n",
      "None\n"
     ]
    }
   ],
   "source": [
    "data_file = 'uranium.spe'\n",
    "\n",
    "def read_data(data_file,clip=[12,-17]):\n",
    "    data = []\n",
    "\n",
    "    with open(data_file) as f:\n",
    "        for line in f.readlines():\n",
    "            data.append(line.strip())\n",
    "\n",
    "    data = np.array(data[clip[0]:clip[1]],dtype=float)\n",
    "\n",
    "    return data\n",
    "\n",
    "data = read_data(data_file)\n",
    "print('Data:')\n",
    "print(helpers.check_array(data))"
   ]
  }
 ],
 "metadata": {
  "kernelspec": {
   "display_name": "analysis",
   "language": "python",
   "name": "python3"
  },
  "language_info": {
   "codemirror_mode": {
    "name": "ipython",
    "version": 3
   },
   "file_extension": ".py",
   "mimetype": "text/x-python",
   "name": "python",
   "nbconvert_exporter": "python",
   "pygments_lexer": "ipython3",
   "version": "3.10.15"
  }
 },
 "nbformat": 4,
 "nbformat_minor": 2
}
